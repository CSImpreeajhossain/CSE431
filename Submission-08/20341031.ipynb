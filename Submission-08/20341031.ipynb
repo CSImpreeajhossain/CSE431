{
  "nbformat": 4,
  "nbformat_minor": 0,
  "metadata": {
    "colab": {
      "provenance": []
    },
    "kernelspec": {
      "name": "python3",
      "display_name": "Python 3"
    },
    "language_info": {
      "name": "python"
    }
  },
  "cells": [
    {
      "cell_type": "code",
      "execution_count": 1,
      "metadata": {
        "colab": {
          "base_uri": "https://localhost:8080/"
        },
        "id": "WNUfGmBVAkRD",
        "outputId": "c12b571e-bcb5-49fd-b8ca-ce853e68db81"
      },
      "outputs": [
        {
          "output_type": "stream",
          "name": "stdout",
          "text": [
            "Requirement already satisfied: tensorflow in /usr/local/lib/python3.10/dist-packages (2.12.0)\n",
            "Requirement already satisfied: absl-py>=1.0.0 in /usr/local/lib/python3.10/dist-packages (from tensorflow) (1.4.0)\n",
            "Requirement already satisfied: astunparse>=1.6.0 in /usr/local/lib/python3.10/dist-packages (from tensorflow) (1.6.3)\n",
            "Requirement already satisfied: flatbuffers>=2.0 in /usr/local/lib/python3.10/dist-packages (from tensorflow) (23.5.26)\n",
            "Requirement already satisfied: gast<=0.4.0,>=0.2.1 in /usr/local/lib/python3.10/dist-packages (from tensorflow) (0.4.0)\n",
            "Requirement already satisfied: google-pasta>=0.1.1 in /usr/local/lib/python3.10/dist-packages (from tensorflow) (0.2.0)\n",
            "Requirement already satisfied: grpcio<2.0,>=1.24.3 in /usr/local/lib/python3.10/dist-packages (from tensorflow) (1.57.0)\n",
            "Requirement already satisfied: h5py>=2.9.0 in /usr/local/lib/python3.10/dist-packages (from tensorflow) (3.9.0)\n",
            "Requirement already satisfied: jax>=0.3.15 in /usr/local/lib/python3.10/dist-packages (from tensorflow) (0.4.14)\n",
            "Requirement already satisfied: keras<2.13,>=2.12.0 in /usr/local/lib/python3.10/dist-packages (from tensorflow) (2.12.0)\n",
            "Requirement already satisfied: libclang>=13.0.0 in /usr/local/lib/python3.10/dist-packages (from tensorflow) (16.0.6)\n",
            "Requirement already satisfied: numpy<1.24,>=1.22 in /usr/local/lib/python3.10/dist-packages (from tensorflow) (1.23.5)\n",
            "Requirement already satisfied: opt-einsum>=2.3.2 in /usr/local/lib/python3.10/dist-packages (from tensorflow) (3.3.0)\n",
            "Requirement already satisfied: packaging in /usr/local/lib/python3.10/dist-packages (from tensorflow) (23.1)\n",
            "Requirement already satisfied: protobuf!=4.21.0,!=4.21.1,!=4.21.2,!=4.21.3,!=4.21.4,!=4.21.5,<5.0.0dev,>=3.20.3 in /usr/local/lib/python3.10/dist-packages (from tensorflow) (3.20.3)\n",
            "Requirement already satisfied: setuptools in /usr/local/lib/python3.10/dist-packages (from tensorflow) (67.7.2)\n",
            "Requirement already satisfied: six>=1.12.0 in /usr/local/lib/python3.10/dist-packages (from tensorflow) (1.16.0)\n",
            "Requirement already satisfied: tensorboard<2.13,>=2.12 in /usr/local/lib/python3.10/dist-packages (from tensorflow) (2.12.3)\n",
            "Requirement already satisfied: tensorflow-estimator<2.13,>=2.12.0 in /usr/local/lib/python3.10/dist-packages (from tensorflow) (2.12.0)\n",
            "Requirement already satisfied: termcolor>=1.1.0 in /usr/local/lib/python3.10/dist-packages (from tensorflow) (2.3.0)\n",
            "Requirement already satisfied: typing-extensions>=3.6.6 in /usr/local/lib/python3.10/dist-packages (from tensorflow) (4.7.1)\n",
            "Requirement already satisfied: wrapt<1.15,>=1.11.0 in /usr/local/lib/python3.10/dist-packages (from tensorflow) (1.14.1)\n",
            "Requirement already satisfied: tensorflow-io-gcs-filesystem>=0.23.1 in /usr/local/lib/python3.10/dist-packages (from tensorflow) (0.33.0)\n",
            "Requirement already satisfied: wheel<1.0,>=0.23.0 in /usr/local/lib/python3.10/dist-packages (from astunparse>=1.6.0->tensorflow) (0.41.1)\n",
            "Requirement already satisfied: ml-dtypes>=0.2.0 in /usr/local/lib/python3.10/dist-packages (from jax>=0.3.15->tensorflow) (0.2.0)\n",
            "Requirement already satisfied: scipy>=1.7 in /usr/local/lib/python3.10/dist-packages (from jax>=0.3.15->tensorflow) (1.10.1)\n",
            "Requirement already satisfied: google-auth<3,>=1.6.3 in /usr/local/lib/python3.10/dist-packages (from tensorboard<2.13,>=2.12->tensorflow) (2.17.3)\n",
            "Requirement already satisfied: google-auth-oauthlib<1.1,>=0.5 in /usr/local/lib/python3.10/dist-packages (from tensorboard<2.13,>=2.12->tensorflow) (1.0.0)\n",
            "Requirement already satisfied: markdown>=2.6.8 in /usr/local/lib/python3.10/dist-packages (from tensorboard<2.13,>=2.12->tensorflow) (3.4.4)\n",
            "Requirement already satisfied: requests<3,>=2.21.0 in /usr/local/lib/python3.10/dist-packages (from tensorboard<2.13,>=2.12->tensorflow) (2.31.0)\n",
            "Requirement already satisfied: tensorboard-data-server<0.8.0,>=0.7.0 in /usr/local/lib/python3.10/dist-packages (from tensorboard<2.13,>=2.12->tensorflow) (0.7.1)\n",
            "Requirement already satisfied: werkzeug>=1.0.1 in /usr/local/lib/python3.10/dist-packages (from tensorboard<2.13,>=2.12->tensorflow) (2.3.6)\n",
            "Requirement already satisfied: cachetools<6.0,>=2.0.0 in /usr/local/lib/python3.10/dist-packages (from google-auth<3,>=1.6.3->tensorboard<2.13,>=2.12->tensorflow) (5.3.1)\n",
            "Requirement already satisfied: pyasn1-modules>=0.2.1 in /usr/local/lib/python3.10/dist-packages (from google-auth<3,>=1.6.3->tensorboard<2.13,>=2.12->tensorflow) (0.3.0)\n",
            "Requirement already satisfied: rsa<5,>=3.1.4 in /usr/local/lib/python3.10/dist-packages (from google-auth<3,>=1.6.3->tensorboard<2.13,>=2.12->tensorflow) (4.9)\n",
            "Requirement already satisfied: requests-oauthlib>=0.7.0 in /usr/local/lib/python3.10/dist-packages (from google-auth-oauthlib<1.1,>=0.5->tensorboard<2.13,>=2.12->tensorflow) (1.3.1)\n",
            "Requirement already satisfied: charset-normalizer<4,>=2 in /usr/local/lib/python3.10/dist-packages (from requests<3,>=2.21.0->tensorboard<2.13,>=2.12->tensorflow) (3.2.0)\n",
            "Requirement already satisfied: idna<4,>=2.5 in /usr/local/lib/python3.10/dist-packages (from requests<3,>=2.21.0->tensorboard<2.13,>=2.12->tensorflow) (3.4)\n",
            "Requirement already satisfied: urllib3<3,>=1.21.1 in /usr/local/lib/python3.10/dist-packages (from requests<3,>=2.21.0->tensorboard<2.13,>=2.12->tensorflow) (2.0.4)\n",
            "Requirement already satisfied: certifi>=2017.4.17 in /usr/local/lib/python3.10/dist-packages (from requests<3,>=2.21.0->tensorboard<2.13,>=2.12->tensorflow) (2023.7.22)\n",
            "Requirement already satisfied: MarkupSafe>=2.1.1 in /usr/local/lib/python3.10/dist-packages (from werkzeug>=1.0.1->tensorboard<2.13,>=2.12->tensorflow) (2.1.3)\n",
            "Requirement already satisfied: pyasn1<0.6.0,>=0.4.6 in /usr/local/lib/python3.10/dist-packages (from pyasn1-modules>=0.2.1->google-auth<3,>=1.6.3->tensorboard<2.13,>=2.12->tensorflow) (0.5.0)\n",
            "Requirement already satisfied: oauthlib>=3.0.0 in /usr/local/lib/python3.10/dist-packages (from requests-oauthlib>=0.7.0->google-auth-oauthlib<1.1,>=0.5->tensorboard<2.13,>=2.12->tensorflow) (3.2.2)\n"
          ]
        }
      ],
      "source": [
        "pip install tensorflow\n"
      ]
    },
    {
      "cell_type": "code",
      "source": [
        "import numpy as np\n",
        "import tensorflow as tf\n",
        "from tensorflow.keras.models import Sequential\n",
        "from tensorflow.keras.layers import Conv2D, MaxPooling2D, Flatten, Dense\n",
        "from tensorflow.keras.utils import to_categorical\n",
        "from sklearn.model_selection import train_test_split\n"
      ],
      "metadata": {
        "id": "Abvl7w3VAqEb"
      },
      "execution_count": 2,
      "outputs": []
    },
    {
      "cell_type": "code",
      "source": [
        "import numpy as np\n",
        "import pickle\n",
        "import matplotlib.pyplot as plt\n",
        "\n",
        "def load_cifar10_batch(file):\n",
        "    with open(file, 'rb') as fo:\n",
        "        dict_data = pickle.load(fo, encoding='bytes')\n",
        "    return dict_data\n",
        "\n",
        "# Load data batches\n",
        "batch_files = [\n",
        "    \"/content/data_batch_1\",\n",
        "    \"/content/data_batch_2\",\n",
        "    \"/content/data_batch_3\",\n",
        "    \"/content/data_batch_4\",\n",
        "    \"/content/data_batch_5\"\n",
        "]\n",
        "\n",
        "data_batches = [load_cifar10_batch(file) for file in batch_files]\n",
        "\n",
        "# Extract data and labels\n",
        "images = np.vstack([batch[b'data'] for batch in data_batches])\n",
        "labels = np.hstack([batch[b'labels'] for batch in data_batches])\n",
        "\n",
        "# Reshape data\n",
        "images = images.reshape(-1, 3, 32, 32).transpose(0, 2, 3, 1)\n",
        "\n",
        "# Display first few images\n",
        "fig, axes = plt.subplots(1, 5, figsize=(15, 3))\n",
        "for ax, img, lbl in zip(axes, images, labels):\n",
        "    ax.imshow(img)\n",
        "    ax.set_title(lbl)\n",
        "    ax.axis('off')\n",
        "\n",
        "plt.tight_layout()\n",
        "plt.show()"
      ],
      "metadata": {
        "colab": {
          "base_uri": "https://localhost:8080/",
          "height": 342
        },
        "id": "6uJzU73UAs54",
        "outputId": "033e1bcd-2ac2-4955-fe1a-5105cbdcd25c"
      },
      "execution_count": 3,
      "outputs": [
        {
          "output_type": "display_data",
          "data": {
            "text/plain": [
              "<Figure size 1500x300 with 5 Axes>"
            ],
            "image/png": "[encoded data removed]"
          },
          "metadata": {}
        }
      ]
    },
    {
      "cell_type": "code",
      "source": [
        "# ... [LOAD CIFAR-10 DATA AS SHOWN EARLIER] ...\n",
        "\n",
        "# Splitting the data into training and validation sets\n",
        "X_train, X_val, y_train, y_val = train_test_split(images, labels, test_size=0.2, random_state=42)\n",
        "\n",
        "# Normalize the images to be in the range [0, 1]\n",
        "X_train = X_train.astype('float32') / 255.0\n",
        "X_val = X_val.astype('float32') / 255.0\n",
        "\n",
        "# Convert labels to one-hot encoding\n",
        "y_train_onehot = to_categorical(y_train, 10)\n",
        "y_val_onehot = to_categorical(y_val, 10)\n"
      ],
      "metadata": {
        "id": "qqlS5tYhCwlR"
      },
      "execution_count": 4,
      "outputs": []
    },
    {
      "cell_type": "code",
      "source": [
        "model = Sequential([\n",
        "    Conv2D(32, (3, 3), activation='relu', padding='same', input_shape=(32, 32, 3)),\n",
        "    MaxPooling2D(2, 2),\n",
        "    Conv2D(64, (3, 3), activation='relu', padding='same'),\n",
        "    MaxPooling2D(2, 2),\n",
        "    Flatten(),\n",
        "    Dense(128, activation='relu'),\n",
        "    Dense(10, activation='softmax')\n",
        "])\n",
        "\n",
        "model.compile(optimizer='adam', loss='categorical_crossentropy', metrics=['accuracy'])\n"
      ],
      "metadata": {
        "id": "sj5Cl4a2C1k-"
      },
      "execution_count": 5,
      "outputs": []
    },
    {
      "cell_type": "code",
      "source": [
        "history = model.fit(X_train, y_train_onehot, validation_data=(X_val, y_val_onehot), epochs=10, batch_size=64)\n"
      ],
      "metadata": {
        "colab": {
          "base_uri": "https://localhost:8080/"
        },
        "id": "wKS6wwiXC4uH",
        "outputId": "f50a32dd-76dc-4568-f137-a590c1a9fae3"
      },
      "execution_count": 6,
      "outputs": [
        {
          "output_type": "stream",
          "name": "stdout",
          "text": [
            "Epoch 1/10\n",
            "625/625 [==============================] - 99s 156ms/step - loss: 1.4904 - accuracy: 0.4684 - val_loss: 1.2226 - val_accuracy: 0.5619\n",
            "Epoch 2/10\n",
            "625/625 [==============================] - 80s 128ms/step - loss: 1.1182 - accuracy: 0.6080 - val_loss: 1.0896 - val_accuracy: 0.6167\n",
            "Epoch 3/10\n",
            "625/625 [==============================] - 80s 127ms/step - loss: 0.9757 - accuracy: 0.6577 - val_loss: 1.0080 - val_accuracy: 0.6459\n",
            "Epoch 4/10\n",
            "625/625 [==============================] - 86s 138ms/step - loss: 0.8666 - accuracy: 0.6984 - val_loss: 0.9094 - val_accuracy: 0.6847\n",
            "Epoch 5/10\n",
            "625/625 [==============================] - 80s 128ms/step - loss: 0.7814 - accuracy: 0.7266 - val_loss: 0.9135 - val_accuracy: 0.6822\n",
            "Epoch 6/10\n",
            "625/625 [==============================] - 79s 127ms/step - loss: 0.7082 - accuracy: 0.7536 - val_loss: 0.9013 - val_accuracy: 0.6920\n",
            "Epoch 7/10\n",
            "625/625 [==============================] - 80s 127ms/step - loss: 0.6359 - accuracy: 0.7778 - val_loss: 0.8955 - val_accuracy: 0.6980\n",
            "Epoch 8/10\n",
            "625/625 [==============================] - 81s 129ms/step - loss: 0.5704 - accuracy: 0.8024 - val_loss: 0.8912 - val_accuracy: 0.7042\n",
            "Epoch 9/10\n",
            "625/625 [==============================] - 81s 130ms/step - loss: 0.5061 - accuracy: 0.8239 - val_loss: 0.9408 - val_accuracy: 0.7000\n",
            "Epoch 10/10\n",
            "625/625 [==============================] - 79s 127ms/step - loss: 0.4468 - accuracy: 0.8447 - val_loss: 0.9633 - val_accuracy: 0.6994\n"
          ]
        }
      ]
    },
    {
      "cell_type": "code",
      "source": [
        "loss, accuracy = model.evaluate(X_val, y_val_onehot)\n",
        "print(f\"Validation Accuracy: {accuracy * 100:.2f}%\")\n"
      ],
      "metadata": {
        "colab": {
          "base_uri": "https://localhost:8080/"
        },
        "id": "UIDZbUNlC6bb",
        "outputId": "40be1dae-353f-4101-90c8-edc7e0b71683"
      },
      "execution_count": 7,
      "outputs": [
        {
          "output_type": "stream",
          "name": "stdout",
          "text": [
            "313/313 [==============================] - 5s 17ms/step - loss: 0.9633 - accuracy: 0.6994\n",
            "Validation Accuracy: 69.94%\n"
          ]
        }
      ]
    },
    {
      "cell_type": "code",
      "source": [
        "from tensorflow.keras.layers import LeakyReLU\n",
        "\n",
        "# Define a CNN model with ReLU activation\n",
        "def create_cnn_model(activation='relu'):\n",
        "    model = Sequential()\n",
        "    if activation == 'leaky_relu':\n",
        "        model.add(Conv2D(32, (3, 3), padding='same', input_shape=(32, 32, 3)))\n",
        "        model.add(LeakyReLU())\n",
        "    else:\n",
        "        model.add(Conv2D(32, (3, 3), activation=activation, padding='same', input_shape=(32, 32, 3)))\n",
        "    model.add(MaxPooling2D(2, 2))\n",
        "    model.add(Conv2D(64, (3, 3), activation=activation, padding='same'))\n",
        "    model.add(MaxPooling2D(2, 2))\n",
        "    model.add(Flatten())\n",
        "    model.add(Dense(128, activation=activation))\n",
        "    model.add(Dense(10, activation='softmax'))\n",
        "    return model\n",
        "\n",
        "model_relu = create_cnn_model('relu')\n",
        "model_leaky_relu = create_cnn_model('leaky_relu')\n",
        "model_sigmoid = create_cnn_model('sigmoid')\n"
      ],
      "metadata": {
        "id": "ozunxt--C61Q"
      },
      "execution_count": 8,
      "outputs": []
    },
    {
      "cell_type": "code",
      "source": [
        "model_relu.compile(optimizer='adam', loss='categorical_crossentropy', metrics=['accuracy'])\n",
        "history_relu = model_relu.fit(X_train, y_train_onehot, validation_data=(X_val, y_val_onehot), epochs=10, batch_size=64)\n",
        "\n",
        "model_leaky_relu.compile(optimizer='adam', loss='categorical_crossentropy', metrics=['accuracy'])\n",
        "history_leaky_relu = model_leaky_relu.fit(X_train, y_train_onehot, validation_data=(X_val, y_val_onehot), epochs=10, batch_size=64)\n",
        "\n",
        "model_sigmoid.compile(optimizer='adam', loss='categorical_crossentropy', metrics=['accuracy'])\n",
        "history_sigmoid = model_sigmoid.fit(X_train, y_train_onehot, validation_data=(X_val, y_val_onehot), epochs=10, batch_size=64)\n"
      ],
      "metadata": {
        "colab": {
          "base_uri": "https://localhost:8080/"
        },
        "id": "9mFYNDaoDAgY",
        "outputId": "336af2a3-434a-4be7-8143-ce15e5032c87"
      },
      "execution_count": 9,
      "outputs": [
        {
          "output_type": "stream",
          "name": "stdout",
          "text": [
            "Epoch 1/10\n",
            "625/625 [==============================] - 89s 140ms/step - loss: 1.4719 - accuracy: 0.4749 - val_loss: 1.2174 - val_accuracy: 0.5679\n",
            "Epoch 2/10\n",
            "625/625 [==============================] - 80s 128ms/step - loss: 1.1168 - accuracy: 0.6076 - val_loss: 1.0435 - val_accuracy: 0.6353\n",
            "Epoch 3/10\n",
            "625/625 [==============================] - 81s 129ms/step - loss: 0.9630 - accuracy: 0.6655 - val_loss: 0.9833 - val_accuracy: 0.6571\n",
            "Epoch 4/10\n",
            "625/625 [==============================] - 79s 127ms/step - loss: 0.8651 - accuracy: 0.6969 - val_loss: 0.9323 - val_accuracy: 0.6760\n",
            "Epoch 5/10\n",
            "625/625 [==============================] - 80s 128ms/step - loss: 0.7883 - accuracy: 0.7257 - val_loss: 0.9136 - val_accuracy: 0.6874\n",
            "Epoch 6/10\n",
            "625/625 [==============================] - 79s 126ms/step - loss: 0.7139 - accuracy: 0.7473 - val_loss: 0.8905 - val_accuracy: 0.6960\n",
            "Epoch 7/10\n",
            "625/625 [==============================] - 79s 127ms/step - loss: 0.6528 - accuracy: 0.7736 - val_loss: 0.9129 - val_accuracy: 0.6889\n",
            "Epoch 8/10\n",
            "625/625 [==============================] - 81s 129ms/step - loss: 0.5822 - accuracy: 0.7957 - val_loss: 0.9039 - val_accuracy: 0.6987\n",
            "Epoch 9/10\n",
            "625/625 [==============================] - 80s 128ms/step - loss: 0.5180 - accuracy: 0.8189 - val_loss: 0.9319 - val_accuracy: 0.6982\n",
            "Epoch 10/10\n",
            "625/625 [==============================] - 78s 125ms/step - loss: 0.4625 - accuracy: 0.8388 - val_loss: 0.9729 - val_accuracy: 0.6977\n",
            "Epoch 1/10\n",
            "625/625 [==============================] - 87s 136ms/step - loss: 1.4383 - accuracy: 0.4881 - val_loss: 1.1388 - val_accuracy: 0.6003\n",
            "Epoch 2/10\n",
            "625/625 [==============================] - 89s 142ms/step - loss: 1.0387 - accuracy: 0.6359 - val_loss: 1.0117 - val_accuracy: 0.6495\n",
            "Epoch 3/10\n",
            "625/625 [==============================] - 85s 135ms/step - loss: 0.8681 - accuracy: 0.6970 - val_loss: 0.9158 - val_accuracy: 0.6784\n",
            "Epoch 4/10\n",
            "625/625 [==============================] - 95s 153ms/step - loss: 0.7496 - accuracy: 0.7358 - val_loss: 0.9105 - val_accuracy: 0.6858\n",
            "Epoch 5/10\n",
            "625/625 [==============================] - 91s 145ms/step - loss: 0.6444 - accuracy: 0.7749 - val_loss: 0.8664 - val_accuracy: 0.7079\n",
            "Epoch 6/10\n",
            "625/625 [==============================] - 88s 140ms/step - loss: 0.5487 - accuracy: 0.8098 - val_loss: 0.8687 - val_accuracy: 0.7095\n",
            "Epoch 7/10\n",
            "625/625 [==============================] - 88s 141ms/step - loss: 0.4603 - accuracy: 0.8409 - val_loss: 0.9397 - val_accuracy: 0.7039\n",
            "Epoch 8/10\n",
            "625/625 [==============================] - 86s 138ms/step - loss: 0.3796 - accuracy: 0.8691 - val_loss: 0.9889 - val_accuracy: 0.7090\n",
            "Epoch 9/10\n",
            "625/625 [==============================] - 87s 139ms/step - loss: 0.3052 - accuracy: 0.8958 - val_loss: 1.0752 - val_accuracy: 0.7046\n",
            "Epoch 10/10\n",
            "625/625 [==============================] - 91s 145ms/step - loss: 0.2432 - accuracy: 0.9176 - val_loss: 1.1697 - val_accuracy: 0.7053\n",
            "Epoch 1/10\n",
            "625/625 [==============================] - 85s 135ms/step - loss: 2.3115 - accuracy: 0.0986 - val_loss: 2.3040 - val_accuracy: 0.1030\n",
            "Epoch 2/10\n",
            "625/625 [==============================] - 86s 137ms/step - loss: 2.3077 - accuracy: 0.0986 - val_loss: 2.3087 - val_accuracy: 0.0933\n",
            "Epoch 3/10\n",
            "625/625 [==============================] - 85s 137ms/step - loss: 1.9728 - accuracy: 0.2795 - val_loss: 1.7274 - val_accuracy: 0.3793\n",
            "Epoch 4/10\n",
            "625/625 [==============================] - 83s 132ms/step - loss: 1.6485 - accuracy: 0.4131 - val_loss: 1.5877 - val_accuracy: 0.4344\n",
            "Epoch 5/10\n",
            "625/625 [==============================] - 86s 138ms/step - loss: 1.5293 - accuracy: 0.4577 - val_loss: 1.5197 - val_accuracy: 0.4563\n",
            "Epoch 6/10\n",
            "625/625 [==============================] - 82s 130ms/step - loss: 1.4446 - accuracy: 0.4875 - val_loss: 1.4488 - val_accuracy: 0.4807\n",
            "Epoch 7/10\n",
            "625/625 [==============================] - 81s 130ms/step - loss: 1.3815 - accuracy: 0.5091 - val_loss: 1.4022 - val_accuracy: 0.5052\n",
            "Epoch 8/10\n",
            "625/625 [==============================] - 87s 139ms/step - loss: 1.3245 - accuracy: 0.5306 - val_loss: 1.3428 - val_accuracy: 0.5201\n",
            "Epoch 9/10\n",
            "625/625 [==============================] - 84s 135ms/step - loss: 1.2670 - accuracy: 0.5518 - val_loss: 1.3051 - val_accuracy: 0.5305\n",
            "Epoch 10/10\n",
            "625/625 [==============================] - 87s 139ms/step - loss: 1.2123 - accuracy: 0.5727 - val_loss: 1.2637 - val_accuracy: 0.5497\n"
          ]
        }
      ]
    },
    {
      "cell_type": "code",
      "source": [
        "def create_configured_cnn(filters=(32, 64), kernel_size=(3, 3), strides=(1, 1)):\n",
        "    model = Sequential()\n",
        "    model.add(Conv2D(filters[0], kernel_size, strides=strides, activation='relu', padding='same', input_shape=(32, 32, 3)))\n",
        "    model.add(MaxPooling2D(2, 2))\n",
        "    model.add(Conv2D(filters[1], kernel_size, strides=strides, activation='relu', padding='same'))\n",
        "    model.add(MaxPooling2D(2, 2))\n",
        "    model.add(Flatten())\n",
        "    model.add(Dense(128, activation='relu'))\n",
        "    model.add(Dense(10, activation='softmax'))\n",
        "    return model\n",
        "\n",
        "# Example models based on configurations\n",
        "model_config_1 = create_configured_cnn(filters=(16, 32))\n",
        "model_config_2 = create_configured_cnn(kernel_size=(5, 5))\n",
        "model_config_3 = create_configured_cnn(strides=(2, 2))\n",
        "\n",
        "# Train the models\n",
        "for model in [model_config_1, model_config_2, model_config_3]:\n",
        "    model.compile(optimizer='adam', loss='categorical_crossentropy', metrics=['accuracy'])\n",
        "    model.fit(X_train, y_train_onehot, validation_data=(X_val, y_val_onehot), epochs=10, batch_size=64)\n"
      ],
      "metadata": {
        "colab": {
          "base_uri": "https://localhost:8080/"
        },
        "id": "99_OjWTiDDsT",
        "outputId": "924f3463-86f9-4dbb-b834-60102c350b41"
      },
      "execution_count": 10,
      "outputs": [
        {
          "output_type": "stream",
          "name": "stdout",
          "text": [
            "Epoch 1/10\n",
            "625/625 [==============================] - 46s 73ms/step - loss: 1.5806 - accuracy: 0.4354 - val_loss: 1.2994 - val_accuracy: 0.5402\n",
            "Epoch 2/10\n",
            "625/625 [==============================] - 47s 76ms/step - loss: 1.2055 - accuracy: 0.5751 - val_loss: 1.1665 - val_accuracy: 0.5908\n",
            "Epoch 3/10\n",
            "625/625 [==============================] - 52s 83ms/step - loss: 1.0763 - accuracy: 0.6227 - val_loss: 1.0592 - val_accuracy: 0.6332\n",
            "Epoch 4/10\n",
            "625/625 [==============================] - 47s 75ms/step - loss: 0.9897 - accuracy: 0.6517 - val_loss: 1.0385 - val_accuracy: 0.6396\n",
            "Epoch 5/10\n",
            "625/625 [==============================] - 44s 71ms/step - loss: 0.9271 - accuracy: 0.6796 - val_loss: 0.9869 - val_accuracy: 0.6580\n",
            "Epoch 6/10\n",
            "625/625 [==============================] - 48s 77ms/step - loss: 0.8673 - accuracy: 0.6973 - val_loss: 0.9944 - val_accuracy: 0.6539\n",
            "Epoch 7/10\n",
            "625/625 [==============================] - 44s 71ms/step - loss: 0.8188 - accuracy: 0.7146 - val_loss: 1.0334 - val_accuracy: 0.6467\n",
            "Epoch 8/10\n",
            "625/625 [==============================] - 47s 75ms/step - loss: 0.7686 - accuracy: 0.7322 - val_loss: 0.9462 - val_accuracy: 0.6790\n",
            "Epoch 9/10\n",
            "625/625 [==============================] - 47s 75ms/step - loss: 0.7267 - accuracy: 0.7455 - val_loss: 0.9600 - val_accuracy: 0.6721\n",
            "Epoch 10/10\n",
            "625/625 [==============================] - 48s 77ms/step - loss: 0.6890 - accuracy: 0.7613 - val_loss: 0.9339 - val_accuracy: 0.6827\n",
            "Epoch 1/10\n",
            "625/625 [==============================] - 162s 258ms/step - loss: 1.4895 - accuracy: 0.4620 - val_loss: 1.2234 - val_accuracy: 0.5684\n",
            "Epoch 2/10\n",
            "625/625 [==============================] - 160s 256ms/step - loss: 1.1106 - accuracy: 0.6114 - val_loss: 1.0742 - val_accuracy: 0.6294\n",
            "Epoch 3/10\n",
            "625/625 [==============================] - 162s 259ms/step - loss: 0.9439 - accuracy: 0.6704 - val_loss: 0.9602 - val_accuracy: 0.6676\n",
            "Epoch 4/10\n",
            "625/625 [==============================] - 159s 254ms/step - loss: 0.8219 - accuracy: 0.7134 - val_loss: 0.9424 - val_accuracy: 0.6726\n",
            "Epoch 5/10\n",
            "625/625 [==============================] - 161s 258ms/step - loss: 0.7224 - accuracy: 0.7464 - val_loss: 0.8918 - val_accuracy: 0.6983\n",
            "Epoch 6/10\n",
            "625/625 [==============================] - 170s 272ms/step - loss: 0.6341 - accuracy: 0.7783 - val_loss: 0.9038 - val_accuracy: 0.6898\n",
            "Epoch 7/10\n",
            "625/625 [==============================] - 160s 256ms/step - loss: 0.5527 - accuracy: 0.8084 - val_loss: 0.8962 - val_accuracy: 0.7091\n",
            "Epoch 8/10\n",
            "625/625 [==============================] - 164s 262ms/step - loss: 0.4686 - accuracy: 0.8360 - val_loss: 0.9227 - val_accuracy: 0.7152\n",
            "Epoch 9/10\n",
            "625/625 [==============================] - 163s 260ms/step - loss: 0.3953 - accuracy: 0.8607 - val_loss: 0.9994 - val_accuracy: 0.7028\n",
            "Epoch 10/10\n",
            "625/625 [==============================] - 169s 271ms/step - loss: 0.3265 - accuracy: 0.8870 - val_loss: 1.0636 - val_accuracy: 0.6972\n",
            "Epoch 1/10\n",
            "625/625 [==============================] - 16s 24ms/step - loss: 1.7269 - accuracy: 0.3743 - val_loss: 1.4804 - val_accuracy: 0.4559\n",
            "Epoch 2/10\n",
            "625/625 [==============================] - 14s 23ms/step - loss: 1.3842 - accuracy: 0.5015 - val_loss: 1.3049 - val_accuracy: 0.5398\n",
            "Epoch 3/10\n",
            "625/625 [==============================] - 14s 23ms/step - loss: 1.2591 - accuracy: 0.5472 - val_loss: 1.2114 - val_accuracy: 0.5701\n",
            "Epoch 4/10\n",
            "625/625 [==============================] - 16s 25ms/step - loss: 1.1715 - accuracy: 0.5827 - val_loss: 1.1692 - val_accuracy: 0.5805\n",
            "Epoch 5/10\n",
            "625/625 [==============================] - 16s 25ms/step - loss: 1.1143 - accuracy: 0.6018 - val_loss: 1.1210 - val_accuracy: 0.6062\n",
            "Epoch 6/10\n",
            "625/625 [==============================] - 15s 23ms/step - loss: 1.0721 - accuracy: 0.6176 - val_loss: 1.1052 - val_accuracy: 0.6133\n",
            "Epoch 7/10\n",
            "625/625 [==============================] - 15s 24ms/step - loss: 1.0235 - accuracy: 0.6374 - val_loss: 1.1041 - val_accuracy: 0.6140\n",
            "Epoch 8/10\n",
            "625/625 [==============================] - 14s 23ms/step - loss: 0.9865 - accuracy: 0.6495 - val_loss: 1.0626 - val_accuracy: 0.6274\n",
            "Epoch 9/10\n",
            "625/625 [==============================] - 14s 23ms/step - loss: 0.9563 - accuracy: 0.6625 - val_loss: 1.0841 - val_accuracy: 0.6185\n",
            "Epoch 10/10\n",
            "625/625 [==============================] - 14s 23ms/step - loss: 0.9330 - accuracy: 0.6707 - val_loss: 1.0448 - val_accuracy: 0.6336\n"
          ]
        }
      ]
    },
    {
      "cell_type": "code",
      "source": [
        "from sklearn.metrics import classification_report\n",
        "\n",
        "# Function to evaluate a model\n",
        "def evaluate_model(model, X_val, y_val):\n",
        "    y_pred = model.predict(X_val).argmax(axis=1)\n",
        "    report = classification_report(y_val, y_pred, output_dict=True)\n",
        "    return report\n",
        "\n",
        "# Evaluate the models\n",
        "reports = []\n",
        "models = [model_relu, model_leaky_relu, model_sigmoid, model_config_1, model_config_2, model_config_3]\n",
        "for model in models:\n",
        "    report = evaluate_model(model, X_val, y_val)\n",
        "    reports.append(report)\n"
      ],
      "metadata": {
        "colab": {
          "base_uri": "https://localhost:8080/"
        },
        "id": "So3gPbhsDEae",
        "outputId": "054ca931-9107-451d-a2de-47a7f69c960a"
      },
      "execution_count": 11,
      "outputs": [
        {
          "output_type": "stream",
          "name": "stdout",
          "text": [
            "313/313 [==============================] - 6s 19ms/step\n",
            "313/313 [==============================] - 6s 20ms/step\n",
            "313/313 [==============================] - 6s 18ms/step\n",
            "313/313 [==============================] - 5s 16ms/step\n",
            "313/313 [==============================] - 11s 34ms/step\n",
            "313/313 [==============================] - 2s 5ms/step\n"
          ]
        }
      ]
    },
    {
      "cell_type": "code",
      "source": [
        "import pandas as pd\n",
        "\n",
        "# Extract metrics and create a DataFrame\n",
        "model_names = ['ReLU', 'Leaky ReLU', 'Sigmoid', 'Config 1', 'Config 2', 'Config 3']\n",
        "data = {\n",
        "    'Model': model_names,\n",
        "    'Accuracy': [rep['accuracy'] for rep in reports],\n",
        "    'Precision': [rep['macro avg']['precision'] for rep in reports],\n",
        "    'Recall': [rep['macro avg']['recall'] for rep in reports],\n",
        "    'F1-Score': [rep['macro avg']['f1-score'] for rep in reports]\n",
        "}\n",
        "df = pd.DataFrame(data)\n",
        "print(df)\n"
      ],
      "metadata": {
        "colab": {
          "base_uri": "https://localhost:8080/"
        },
        "id": "-SLIIvKuDHBH",
        "outputId": "f1b301a6-f04b-48c3-a0f7-b859ac102c85"
      },
      "execution_count": 12,
      "outputs": [
        {
          "output_type": "stream",
          "name": "stdout",
          "text": [
            "        Model  Accuracy  Precision    Recall  F1-Score\n",
            "0        ReLU    0.6977   0.696468  0.698577  0.694326\n",
            "1  Leaky ReLU    0.7053   0.708274  0.705757  0.704260\n",
            "2     Sigmoid    0.5497   0.553093  0.548971  0.547538\n",
            "3    Config 1    0.6827   0.685200  0.683556  0.681828\n",
            "4    Config 2    0.6972   0.700662  0.698424  0.697198\n",
            "5    Config 3    0.6336   0.643375  0.633183  0.631713\n"
          ]
        }
      ]
    }
  ]
}